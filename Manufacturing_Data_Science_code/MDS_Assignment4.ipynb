{
 "cells": [
  {
   "cell_type": "markdown",
   "metadata": {},
   "source": [
    "## 製造數據科學作業四"
   ]
  },
  {
   "cell_type": "markdown",
   "metadata": {},
   "source": [
    "#### 經濟四b09303047林奕霆"
   ]
  },
  {
   "cell_type": "markdown",
   "metadata": {},
   "source": [
    "#### 第一題"
   ]
  },
  {
   "cell_type": "markdown",
   "metadata": {},
   "source": [
    "**(a)**"
   ]
  },
  {
   "cell_type": "code",
   "execution_count": 21,
   "metadata": {},
   "outputs": [
    {
     "name": "stderr",
     "output_type": "stream",
     "text": [
      "C:\\Users\\User\\AppData\\Local\\Packages\\PythonSoftwareFoundation.Python.3.9_qbz5n2kfra8p0\\LocalCache\\local-packages\\Python39\\site-packages\\scipy\\__init__.py:155: UserWarning: A NumPy version >=1.18.5 and <1.25.0 is required for this version of SciPy (detected version 1.26.2\n",
      "  warnings.warn(f\"A NumPy version >={np_minversion} and <{np_maxversion}\"\n"
     ]
    }
   ],
   "source": [
    "import numpy as np\n",
    "import pandas as pd\n",
    "import seaborn as sns\n",
    "import plotly.express as px\n",
    "from matplotlib import pyplot as plt\n",
    "from sklearn.model_selection import cross_val_score\n",
    "\n",
    "from sklearn import metrics\n",
    "from collections import Counter"
   ]
  },
  {
   "cell_type": "code",
   "execution_count": 4,
   "metadata": {},
   "outputs": [],
   "source": [
    "try:\n",
    "    raw_df = pd.read_csv('../input/creditcardfraud/creditcard.csv')\n",
    "except:\n",
    "    raw_df = pd.read_csv('creditcard.csv')"
   ]
  },
  {
   "cell_type": "code",
   "execution_count": 5,
   "metadata": {},
   "outputs": [
    {
     "data": {
      "application/vnd.plotly.v1+json": {
       "config": {
        "plotlyServerURL": "https://plot.ly"
       },
       "data": [
        {
         "domain": {
          "x": [
           0,
           1
          ],
          "y": [
           0,
           1
          ]
         },
         "hovertemplate": "label=%{label}<br>value=%{value}<extra></extra>",
         "labels": [
          "Genuine",
          "Fraud"
         ],
         "legendgroup": "",
         "name": "",
         "showlegend": true,
         "type": "pie",
         "values": [
          284315,
          492
         ]
        }
       ],
       "layout": {
        "height": 400,
        "legend": {
         "tracegroupgap": 0
        },
        "piecolorway": [
         "skyblue",
         "black"
        ],
        "template": {
         "data": {
          "bar": [
           {
            "error_x": {
             "color": "#2a3f5f"
            },
            "error_y": {
             "color": "#2a3f5f"
            },
            "marker": {
             "line": {
              "color": "#E5ECF6",
              "width": 0.5
             },
             "pattern": {
              "fillmode": "overlay",
              "size": 10,
              "solidity": 0.2
             }
            },
            "type": "bar"
           }
          ],
          "barpolar": [
           {
            "marker": {
             "line": {
              "color": "#E5ECF6",
              "width": 0.5
             },
             "pattern": {
              "fillmode": "overlay",
              "size": 10,
              "solidity": 0.2
             }
            },
            "type": "barpolar"
           }
          ],
          "carpet": [
           {
            "aaxis": {
             "endlinecolor": "#2a3f5f",
             "gridcolor": "white",
             "linecolor": "white",
             "minorgridcolor": "white",
             "startlinecolor": "#2a3f5f"
            },
            "baxis": {
             "endlinecolor": "#2a3f5f",
             "gridcolor": "white",
             "linecolor": "white",
             "minorgridcolor": "white",
             "startlinecolor": "#2a3f5f"
            },
            "type": "carpet"
           }
          ],
          "choropleth": [
           {
            "colorbar": {
             "outlinewidth": 0,
             "ticks": ""
            },
            "type": "choropleth"
           }
          ],
          "contour": [
           {
            "colorbar": {
             "outlinewidth": 0,
             "ticks": ""
            },
            "colorscale": [
             [
              0,
              "#0d0887"
             ],
             [
              0.1111111111111111,
              "#46039f"
             ],
             [
              0.2222222222222222,
              "#7201a8"
             ],
             [
              0.3333333333333333,
              "#9c179e"
             ],
             [
              0.4444444444444444,
              "#bd3786"
             ],
             [
              0.5555555555555556,
              "#d8576b"
             ],
             [
              0.6666666666666666,
              "#ed7953"
             ],
             [
              0.7777777777777778,
              "#fb9f3a"
             ],
             [
              0.8888888888888888,
              "#fdca26"
             ],
             [
              1,
              "#f0f921"
             ]
            ],
            "type": "contour"
           }
          ],
          "contourcarpet": [
           {
            "colorbar": {
             "outlinewidth": 0,
             "ticks": ""
            },
            "type": "contourcarpet"
           }
          ],
          "heatmap": [
           {
            "colorbar": {
             "outlinewidth": 0,
             "ticks": ""
            },
            "colorscale": [
             [
              0,
              "#0d0887"
             ],
             [
              0.1111111111111111,
              "#46039f"
             ],
             [
              0.2222222222222222,
              "#7201a8"
             ],
             [
              0.3333333333333333,
              "#9c179e"
             ],
             [
              0.4444444444444444,
              "#bd3786"
             ],
             [
              0.5555555555555556,
              "#d8576b"
             ],
             [
              0.6666666666666666,
              "#ed7953"
             ],
             [
              0.7777777777777778,
              "#fb9f3a"
             ],
             [
              0.8888888888888888,
              "#fdca26"
             ],
             [
              1,
              "#f0f921"
             ]
            ],
            "type": "heatmap"
           }
          ],
          "heatmapgl": [
           {
            "colorbar": {
             "outlinewidth": 0,
             "ticks": ""
            },
            "colorscale": [
             [
              0,
              "#0d0887"
             ],
             [
              0.1111111111111111,
              "#46039f"
             ],
             [
              0.2222222222222222,
              "#7201a8"
             ],
             [
              0.3333333333333333,
              "#9c179e"
             ],
             [
              0.4444444444444444,
              "#bd3786"
             ],
             [
              0.5555555555555556,
              "#d8576b"
             ],
             [
              0.6666666666666666,
              "#ed7953"
             ],
             [
              0.7777777777777778,
              "#fb9f3a"
             ],
             [
              0.8888888888888888,
              "#fdca26"
             ],
             [
              1,
              "#f0f921"
             ]
            ],
            "type": "heatmapgl"
           }
          ],
          "histogram": [
           {
            "marker": {
             "pattern": {
              "fillmode": "overlay",
              "size": 10,
              "solidity": 0.2
             }
            },
            "type": "histogram"
           }
          ],
          "histogram2d": [
           {
            "colorbar": {
             "outlinewidth": 0,
             "ticks": ""
            },
            "colorscale": [
             [
              0,
              "#0d0887"
             ],
             [
              0.1111111111111111,
              "#46039f"
             ],
             [
              0.2222222222222222,
              "#7201a8"
             ],
             [
              0.3333333333333333,
              "#9c179e"
             ],
             [
              0.4444444444444444,
              "#bd3786"
             ],
             [
              0.5555555555555556,
              "#d8576b"
             ],
             [
              0.6666666666666666,
              "#ed7953"
             ],
             [
              0.7777777777777778,
              "#fb9f3a"
             ],
             [
              0.8888888888888888,
              "#fdca26"
             ],
             [
              1,
              "#f0f921"
             ]
            ],
            "type": "histogram2d"
           }
          ],
          "histogram2dcontour": [
           {
            "colorbar": {
             "outlinewidth": 0,
             "ticks": ""
            },
            "colorscale": [
             [
              0,
              "#0d0887"
             ],
             [
              0.1111111111111111,
              "#46039f"
             ],
             [
              0.2222222222222222,
              "#7201a8"
             ],
             [
              0.3333333333333333,
              "#9c179e"
             ],
             [
              0.4444444444444444,
              "#bd3786"
             ],
             [
              0.5555555555555556,
              "#d8576b"
             ],
             [
              0.6666666666666666,
              "#ed7953"
             ],
             [
              0.7777777777777778,
              "#fb9f3a"
             ],
             [
              0.8888888888888888,
              "#fdca26"
             ],
             [
              1,
              "#f0f921"
             ]
            ],
            "type": "histogram2dcontour"
           }
          ],
          "mesh3d": [
           {
            "colorbar": {
             "outlinewidth": 0,
             "ticks": ""
            },
            "type": "mesh3d"
           }
          ],
          "parcoords": [
           {
            "line": {
             "colorbar": {
              "outlinewidth": 0,
              "ticks": ""
             }
            },
            "type": "parcoords"
           }
          ],
          "pie": [
           {
            "automargin": true,
            "type": "pie"
           }
          ],
          "scatter": [
           {
            "fillpattern": {
             "fillmode": "overlay",
             "size": 10,
             "solidity": 0.2
            },
            "type": "scatter"
           }
          ],
          "scatter3d": [
           {
            "line": {
             "colorbar": {
              "outlinewidth": 0,
              "ticks": ""
             }
            },
            "marker": {
             "colorbar": {
              "outlinewidth": 0,
              "ticks": ""
             }
            },
            "type": "scatter3d"
           }
          ],
          "scattercarpet": [
           {
            "marker": {
             "colorbar": {
              "outlinewidth": 0,
              "ticks": ""
             }
            },
            "type": "scattercarpet"
           }
          ],
          "scattergeo": [
           {
            "marker": {
             "colorbar": {
              "outlinewidth": 0,
              "ticks": ""
             }
            },
            "type": "scattergeo"
           }
          ],
          "scattergl": [
           {
            "marker": {
             "colorbar": {
              "outlinewidth": 0,
              "ticks": ""
             }
            },
            "type": "scattergl"
           }
          ],
          "scattermapbox": [
           {
            "marker": {
             "colorbar": {
              "outlinewidth": 0,
              "ticks": ""
             }
            },
            "type": "scattermapbox"
           }
          ],
          "scatterpolar": [
           {
            "marker": {
             "colorbar": {
              "outlinewidth": 0,
              "ticks": ""
             }
            },
            "type": "scatterpolar"
           }
          ],
          "scatterpolargl": [
           {
            "marker": {
             "colorbar": {
              "outlinewidth": 0,
              "ticks": ""
             }
            },
            "type": "scatterpolargl"
           }
          ],
          "scatterternary": [
           {
            "marker": {
             "colorbar": {
              "outlinewidth": 0,
              "ticks": ""
             }
            },
            "type": "scatterternary"
           }
          ],
          "surface": [
           {
            "colorbar": {
             "outlinewidth": 0,
             "ticks": ""
            },
            "colorscale": [
             [
              0,
              "#0d0887"
             ],
             [
              0.1111111111111111,
              "#46039f"
             ],
             [
              0.2222222222222222,
              "#7201a8"
             ],
             [
              0.3333333333333333,
              "#9c179e"
             ],
             [
              0.4444444444444444,
              "#bd3786"
             ],
             [
              0.5555555555555556,
              "#d8576b"
             ],
             [
              0.6666666666666666,
              "#ed7953"
             ],
             [
              0.7777777777777778,
              "#fb9f3a"
             ],
             [
              0.8888888888888888,
              "#fdca26"
             ],
             [
              1,
              "#f0f921"
             ]
            ],
            "type": "surface"
           }
          ],
          "table": [
           {
            "cells": {
             "fill": {
              "color": "#EBF0F8"
             },
             "line": {
              "color": "white"
             }
            },
            "header": {
             "fill": {
              "color": "#C8D4E3"
             },
             "line": {
              "color": "white"
             }
            },
            "type": "table"
           }
          ]
         },
         "layout": {
          "annotationdefaults": {
           "arrowcolor": "#2a3f5f",
           "arrowhead": 0,
           "arrowwidth": 1
          },
          "autotypenumbers": "strict",
          "coloraxis": {
           "colorbar": {
            "outlinewidth": 0,
            "ticks": ""
           }
          },
          "colorscale": {
           "diverging": [
            [
             0,
             "#8e0152"
            ],
            [
             0.1,
             "#c51b7d"
            ],
            [
             0.2,
             "#de77ae"
            ],
            [
             0.3,
             "#f1b6da"
            ],
            [
             0.4,
             "#fde0ef"
            ],
            [
             0.5,
             "#f7f7f7"
            ],
            [
             0.6,
             "#e6f5d0"
            ],
            [
             0.7,
             "#b8e186"
            ],
            [
             0.8,
             "#7fbc41"
            ],
            [
             0.9,
             "#4d9221"
            ],
            [
             1,
             "#276419"
            ]
           ],
           "sequential": [
            [
             0,
             "#0d0887"
            ],
            [
             0.1111111111111111,
             "#46039f"
            ],
            [
             0.2222222222222222,
             "#7201a8"
            ],
            [
             0.3333333333333333,
             "#9c179e"
            ],
            [
             0.4444444444444444,
             "#bd3786"
            ],
            [
             0.5555555555555556,
             "#d8576b"
            ],
            [
             0.6666666666666666,
             "#ed7953"
            ],
            [
             0.7777777777777778,
             "#fb9f3a"
            ],
            [
             0.8888888888888888,
             "#fdca26"
            ],
            [
             1,
             "#f0f921"
            ]
           ],
           "sequentialminus": [
            [
             0,
             "#0d0887"
            ],
            [
             0.1111111111111111,
             "#46039f"
            ],
            [
             0.2222222222222222,
             "#7201a8"
            ],
            [
             0.3333333333333333,
             "#9c179e"
            ],
            [
             0.4444444444444444,
             "#bd3786"
            ],
            [
             0.5555555555555556,
             "#d8576b"
            ],
            [
             0.6666666666666666,
             "#ed7953"
            ],
            [
             0.7777777777777778,
             "#fb9f3a"
            ],
            [
             0.8888888888888888,
             "#fdca26"
            ],
            [
             1,
             "#f0f921"
            ]
           ]
          },
          "colorway": [
           "#636efa",
           "#EF553B",
           "#00cc96",
           "#ab63fa",
           "#FFA15A",
           "#19d3f3",
           "#FF6692",
           "#B6E880",
           "#FF97FF",
           "#FECB52"
          ],
          "font": {
           "color": "#2a3f5f"
          },
          "geo": {
           "bgcolor": "white",
           "lakecolor": "white",
           "landcolor": "#E5ECF6",
           "showlakes": true,
           "showland": true,
           "subunitcolor": "white"
          },
          "hoverlabel": {
           "align": "left"
          },
          "hovermode": "closest",
          "mapbox": {
           "style": "light"
          },
          "paper_bgcolor": "white",
          "plot_bgcolor": "#E5ECF6",
          "polar": {
           "angularaxis": {
            "gridcolor": "white",
            "linecolor": "white",
            "ticks": ""
           },
           "bgcolor": "#E5ECF6",
           "radialaxis": {
            "gridcolor": "white",
            "linecolor": "white",
            "ticks": ""
           }
          },
          "scene": {
           "xaxis": {
            "backgroundcolor": "#E5ECF6",
            "gridcolor": "white",
            "gridwidth": 2,
            "linecolor": "white",
            "showbackground": true,
            "ticks": "",
            "zerolinecolor": "white"
           },
           "yaxis": {
            "backgroundcolor": "#E5ECF6",
            "gridcolor": "white",
            "gridwidth": 2,
            "linecolor": "white",
            "showbackground": true,
            "ticks": "",
            "zerolinecolor": "white"
           },
           "zaxis": {
            "backgroundcolor": "#E5ECF6",
            "gridcolor": "white",
            "gridwidth": 2,
            "linecolor": "white",
            "showbackground": true,
            "ticks": "",
            "zerolinecolor": "white"
           }
          },
          "shapedefaults": {
           "line": {
            "color": "#2a3f5f"
           }
          },
          "ternary": {
           "aaxis": {
            "gridcolor": "white",
            "linecolor": "white",
            "ticks": ""
           },
           "baxis": {
            "gridcolor": "white",
            "linecolor": "white",
            "ticks": ""
           },
           "bgcolor": "#E5ECF6",
           "caxis": {
            "gridcolor": "white",
            "linecolor": "white",
            "ticks": ""
           }
          },
          "title": {
           "x": 0.05
          },
          "xaxis": {
           "automargin": true,
           "gridcolor": "white",
           "linecolor": "white",
           "ticks": "",
           "title": {
            "standoff": 15
           },
           "zerolinecolor": "white",
           "zerolinewidth": 2
          },
          "yaxis": {
           "automargin": true,
           "gridcolor": "white",
           "linecolor": "white",
           "ticks": "",
           "title": {
            "standoff": 15
           },
           "zerolinecolor": "white",
           "zerolinewidth": 2
          }
         }
        },
        "title": {
         "text": "Fraud vs Genuine transactions"
        },
        "width": 700
       }
      }
     },
     "metadata": {},
     "output_type": "display_data"
    }
   ],
   "source": [
    "labels=[\"Genuine\",\"Fraud\"]\n",
    "\n",
    "fraud_or_not = raw_df[\"Class\"].value_counts().tolist()\n",
    "values = [fraud_or_not[0], fraud_or_not[1]]\n",
    "\n",
    "fig = px.pie(values=raw_df['Class'].value_counts(), names=labels , width=700, height=400, color_discrete_sequence=[\"skyblue\",\"black\"]\n",
    "             ,title=\"Fraud vs Genuine transactions\")\n",
    "fig.show()"
   ]
  },
  {
   "cell_type": "markdown",
   "metadata": {},
   "source": [
    "Data preprocessing"
   ]
  },
  {
   "cell_type": "code",
   "execution_count": 6,
   "metadata": {},
   "outputs": [],
   "source": [
    "df = raw_df.copy()\n",
    "df.drop_duplicates(inplace=True)\n",
    "df = df.drop('Time', axis=1)\n"
   ]
  },
  {
   "cell_type": "code",
   "execution_count": 7,
   "metadata": {},
   "outputs": [],
   "source": [
    "X = df.drop('Class', axis=1)\n",
    "y = df['Class']\n",
    "\n",
    "from sklearn.model_selection import train_test_split\n",
    "X_train, X_test, y_train, y_test = train_test_split(X, y, stratify=y, test_size = 0.3, random_state = 42)"
   ]
  },
  {
   "cell_type": "code",
   "execution_count": 8,
   "metadata": {},
   "outputs": [],
   "source": [
    "from sklearn.preprocessing import StandardScaler\n",
    "\n",
    "# Creating function for scaling\n",
    "def Standard_Scaler (df, col_names):\n",
    "    features = df[col_names]\n",
    "    scaler = StandardScaler().fit(features.values)\n",
    "    features = scaler.transform(features.values)\n",
    "    df[col_names] = features\n",
    "    \n",
    "    return df\n",
    "col_names = ['Amount']\n",
    "X_train = Standard_Scaler (X_train, col_names)\n",
    "X_test = Standard_Scaler (X_test, col_names)\n"
   ]
  },
  {
   "cell_type": "code",
   "execution_count": 7,
   "metadata": {},
   "outputs": [],
   "source": [
    "from sklearn.model_selection import StratifiedKFold\n",
    "from sklearn.ensemble import RandomForestClassifier\n",
    "\n",
    "#We are going to ensure that we have the same splits of the data every time. \n",
    "#We can ensure this by creating a KFold object, kf, and passing cv=kf instead of the more common cv=5.\n",
    "\n",
    "kf = StratifiedKFold(n_splits=5, shuffle=False)\n",
    "rf = RandomForestClassifier(n_estimators=100, random_state=13)\n",
    "\n"
   ]
  },
  {
   "cell_type": "code",
   "execution_count": 12,
   "metadata": {},
   "outputs": [
    {
     "name": "stdout",
     "output_type": "stream",
     "text": [
      "Cross Validation Recall scores are: [0.8030303  0.74242424 0.76119403 0.87878788 0.65151515]\n",
      "Average Cross Validation Recall score: 0.7673903211216644\n"
     ]
    }
   ],
   "source": [
    "score = cross_val_score(rf, X_train, y_train, cv=kf, scoring='recall')\n",
    "print(\"Cross Validation Recall scores are: {}\".format(score))\n",
    "print(\"Average Cross Validation Recall score: {}\".format(score.mean()))"
   ]
  },
  {
   "cell_type": "code",
   "execution_count": 12,
   "metadata": {},
   "outputs": [
    {
     "name": "stdout",
     "output_type": "stream",
     "text": [
      "Best parameters: {'max_depth': 12, 'n_estimators': 100, 'random_state': 13}\n",
      "Best score: 0.7734509271822705\n"
     ]
    }
   ],
   "source": [
    "from sklearn.model_selection import GridSearchCV\n",
    "\n",
    "params = {\n",
    "    'n_estimators': [100, 200],\n",
    "    'max_depth': [ 10, 12],\n",
    "    'random_state': [13]\n",
    "}\n",
    "\n",
    "grid_rf = GridSearchCV(rf, param_grid=params, cv=kf, \n",
    "                          scoring='recall').fit(X_train, y_train)\n",
    "\n",
    "print('Best parameters:', grid_rf.best_params_)\n",
    "print('Best score:', grid_rf.best_score_)"
   ]
  },
  {
   "cell_type": "markdown",
   "metadata": {},
   "source": [
    "印出rf預測結果"
   ]
  },
  {
   "cell_type": "code",
   "execution_count": 13,
   "metadata": {},
   "outputs": [
    {
     "name": "stdout",
     "output_type": "stream",
     "text": [
      "[[84972     4]\n",
      " [   33   109]]\n"
     ]
    }
   ],
   "source": [
    "y_pred = grid_rf.predict(X_test)\n",
    "from sklearn.metrics import confusion_matrix, recall_score, precision_score, f1_score, accuracy_score\n",
    "cm = confusion_matrix(y_test, y_pred)\n",
    "\n",
    "rf_Recall = recall_score(y_test, y_pred)\n",
    "rf_Precision = precision_score(y_test, y_pred)\n",
    "rf_f1 = f1_score(y_test, y_pred)\n",
    "rf_accuracy = accuracy_score(y_test, y_pred)\n",
    "\n",
    "print(cm)"
   ]
  },
  {
   "cell_type": "code",
   "execution_count": 20,
   "metadata": {},
   "outputs": [
    {
     "data": {
      "text/html": [
       "<div>\n",
       "<style scoped>\n",
       "    .dataframe tbody tr th:only-of-type {\n",
       "        vertical-align: middle;\n",
       "    }\n",
       "\n",
       "    .dataframe tbody tr th {\n",
       "        vertical-align: top;\n",
       "    }\n",
       "\n",
       "    .dataframe thead th {\n",
       "        text-align: right;\n",
       "    }\n",
       "</style>\n",
       "<table border=\"1\" class=\"dataframe\">\n",
       "  <thead>\n",
       "    <tr style=\"text-align: right;\">\n",
       "      <th></th>\n",
       "      <th>Random Forest with</th>\n",
       "      <th>Recall</th>\n",
       "      <th>Precision</th>\n",
       "      <th>F1 Score</th>\n",
       "      <th>Accuracy</th>\n",
       "    </tr>\n",
       "  </thead>\n",
       "  <tbody>\n",
       "    <tr>\n",
       "      <th>0</th>\n",
       "      <td>No Under/Oversampling</td>\n",
       "      <td>0.767606</td>\n",
       "      <td>0.964602</td>\n",
       "      <td>0.854902</td>\n",
       "      <td>0.999565</td>\n",
       "    </tr>\n",
       "  </tbody>\n",
       "</table>\n",
       "</div>"
      ],
      "text/plain": [
       "      Random Forest with    Recall  Precision  F1 Score  Accuracy\n",
       "0  No Under/Oversampling  0.767606   0.964602  0.854902  0.999565"
      ]
     },
     "execution_count": 20,
     "metadata": {},
     "output_type": "execute_result"
    }
   ],
   "source": [
    "ndf = [(rf_Recall, rf_Precision, rf_f1, rf_accuracy)]\n",
    "\n",
    "rf_score = pd.DataFrame(data = ndf, columns=['Recall','Precision','F1 Score', 'Accuracy'])\n",
    "rf_score.insert(0, 'Random Forest with', 'No Under/Oversampling')\n",
    "rf_score"
   ]
  },
  {
   "cell_type": "markdown",
   "metadata": {},
   "source": [
    "1. Random OverSampling"
   ]
  },
  {
   "cell_type": "code",
   "execution_count": 12,
   "metadata": {},
   "outputs": [
    {
     "name": "stdout",
     "output_type": "stream",
     "text": [
      "Genuine: 198277 / 50.0 % of the dataset\n",
      "Frauds: 198277 / 50.0 % of the dataset\n"
     ]
    }
   ],
   "source": [
    "from imblearn.over_sampling import RandomOverSampler\n",
    "# define oversampling strategy\n",
    "ros = RandomOverSampler(random_state=42)\n",
    "X_over, y_over = ros.fit_resample(X_train, y_train)\n",
    "print('Genuine:', y_over.value_counts()[0], '/', round(y_over.value_counts()[0]/len(y_over) * 100,2), '% of the dataset')\n",
    "print('Frauds:', y_over.value_counts()[1], '/',round(y_over.value_counts()[1]/len(y_over) * 100,2), '% of the dataset')"
   ]
  },
  {
   "cell_type": "code",
   "execution_count": 9,
   "metadata": {},
   "outputs": [],
   "source": [
    "from imblearn.pipeline import Pipeline, make_pipeline\n",
    "\n",
    "random_overs_pipeline = make_pipeline(RandomOverSampler(random_state=42), \n",
    "                              RandomForestClassifier(n_estimators=100, random_state=13))"
   ]
  },
  {
   "cell_type": "code",
   "execution_count": 10,
   "metadata": {},
   "outputs": [
    {
     "name": "stdout",
     "output_type": "stream",
     "text": [
      "Cross Validation Recall Scores are: [0.83333333 0.72727273 0.74626866 0.86363636 0.65151515]\n",
      "Average Cross Validation Recall score: 0.7644052464947987\n"
     ]
    }
   ],
   "source": [
    "score2 = cross_val_score(random_overs_pipeline, X_train, y_train, scoring='recall', cv=kf)\n",
    "print(\"Cross Validation Recall Scores are: {}\".format(score2))\n",
    "print(\"Average Cross Validation Recall score: {}\".format(score2.mean()))"
   ]
  },
  {
   "cell_type": "code",
   "execution_count": 13,
   "metadata": {},
   "outputs": [
    {
     "name": "stdout",
     "output_type": "stream",
     "text": [
      "[[84914    62]\n",
      " [   28   114]]\n"
     ]
    },
    {
     "data": {
      "text/html": [
       "<div>\n",
       "<style scoped>\n",
       "    .dataframe tbody tr th:only-of-type {\n",
       "        vertical-align: middle;\n",
       "    }\n",
       "\n",
       "    .dataframe tbody tr th {\n",
       "        vertical-align: top;\n",
       "    }\n",
       "\n",
       "    .dataframe thead th {\n",
       "        text-align: right;\n",
       "    }\n",
       "</style>\n",
       "<table border=\"1\" class=\"dataframe\">\n",
       "  <thead>\n",
       "    <tr style=\"text-align: right;\">\n",
       "      <th></th>\n",
       "      <th>Random Forest with</th>\n",
       "      <th>Recall</th>\n",
       "      <th>Precision</th>\n",
       "      <th>F1 Score</th>\n",
       "      <th>Accuracy</th>\n",
       "    </tr>\n",
       "  </thead>\n",
       "  <tbody>\n",
       "    <tr>\n",
       "      <th>0</th>\n",
       "      <td>Random Oversampling</td>\n",
       "      <td>0.802817</td>\n",
       "      <td>0.647727</td>\n",
       "      <td>0.716981</td>\n",
       "      <td>0.998943</td>\n",
       "    </tr>\n",
       "  </tbody>\n",
       "</table>\n",
       "</div>"
      ],
      "text/plain": [
       "    Random Forest with    Recall  Precision  F1 Score  Accuracy\n",
       "0  Random Oversampling  0.802817   0.647727  0.716981  0.998943"
      ]
     },
     "execution_count": 13,
     "metadata": {},
     "output_type": "execute_result"
    }
   ],
   "source": [
    "# 由參考資料取得最佳參數直接訓練模型\n",
    "best_params = {\n",
    "    'max_depth': 4,\n",
    "    'n_estimators': 50,\n",
    "    'random_state': 13\n",
    "}\n",
    "\n",
    "random_oversampler = RandomOverSampler(sampling_strategy=0.5, random_state=42)  # Adjust sampling_strategy if needed\n",
    "random_forest_classifier = RandomForestClassifier(**best_params)\n",
    "\n",
    "# Create the pipeline with RandomOverSampler and RandomForestClassifier\n",
    "random_overs_pipeline = make_pipeline(random_oversampler, random_forest_classifier)\n",
    "\n",
    "# Fit the pipeline on the training data\n",
    "random_overs_pipeline.fit(X_train, y_train)\n",
    "\n",
    "# Predict on the test data\n",
    "y_pred2 = random_overs_pipeline.predict(X_test)\n",
    "\n",
    "cm = confusion_matrix(y_test, y_pred2)\n",
    "\n",
    "over_rf_Recall = recall_score(y_test, y_pred2)\n",
    "over_rf_Precision = precision_score(y_test, y_pred2)\n",
    "over_rf_f1 = f1_score(y_test, y_pred2)\n",
    "over_rf_accuracy = accuracy_score(y_test, y_pred2)\n",
    "\n",
    "print(cm)\n",
    "\n",
    "ndf = [(over_rf_Recall, over_rf_Precision, over_rf_f1, over_rf_accuracy)]\n",
    "\n",
    "over_rf_score = pd.DataFrame(data = ndf, columns=['Recall','Precision','F1 Score', 'Accuracy'])\n",
    "over_rf_score.insert(0, 'Random Forest with', 'Random Oversampling')\n",
    "over_rf_score"
   ]
  },
  {
   "cell_type": "markdown",
   "metadata": {},
   "source": [
    "2. Random Undersampling"
   ]
  },
  {
   "cell_type": "code",
   "execution_count": 14,
   "metadata": {},
   "outputs": [
    {
     "name": "stdout",
     "output_type": "stream",
     "text": [
      "Genuine: 331 / 50.0 % of the dataset\n",
      "Frauds: 331 / 50.0 % of the dataset\n"
     ]
    }
   ],
   "source": [
    "from imblearn.under_sampling import RandomUnderSampler\n",
    "# define oversampling strategy\n",
    "rus = RandomUnderSampler(random_state=42)\n",
    "X_under, y_under = rus.fit_resample(X_train, y_train)\n",
    "print('Genuine:', y_under.value_counts()[0], '/', round(y_under.value_counts()[0]/len(y_under) * 100,2), '% of the dataset')\n",
    "print('Frauds:', y_under.value_counts()[1], '/',round(y_under.value_counts()[1]/len(y_under) * 100,2), '% of the dataset')"
   ]
  },
  {
   "cell_type": "code",
   "execution_count": 24,
   "metadata": {},
   "outputs": [],
   "source": [
    "from imblearn.pipeline import Pipeline, make_pipeline\n",
    "\n",
    "random_under_pipeline = make_pipeline(RandomUnderSampler(random_state=42), \n",
    "                              RandomForestClassifier(n_estimators=100, random_state=13))"
   ]
  },
  {
   "cell_type": "code",
   "execution_count": 20,
   "metadata": {},
   "outputs": [
    {
     "name": "stdout",
     "output_type": "stream",
     "text": [
      "Cross Validation Recall Scores are: [0.92424242 0.89393939 0.86567164 0.96969697 0.84848485]\n",
      "Average Cross Validation Recall score: 0.9004070556309361\n"
     ]
    }
   ],
   "source": [
    "score3 = cross_val_score(random_under_pipeline, X_train, y_train, scoring='recall', cv=kf)\n",
    "print(\"Cross Validation Recall Scores are: {}\".format(score3))\n",
    "print(\"Average Cross Validation Recall score: {}\".format(score3.mean()))"
   ]
  },
  {
   "cell_type": "code",
   "execution_count": 15,
   "metadata": {},
   "outputs": [
    {
     "name": "stdout",
     "output_type": "stream",
     "text": [
      "[[84728   248]\n",
      " [   25   117]]\n"
     ]
    },
    {
     "data": {
      "text/html": [
       "<div>\n",
       "<style scoped>\n",
       "    .dataframe tbody tr th:only-of-type {\n",
       "        vertical-align: middle;\n",
       "    }\n",
       "\n",
       "    .dataframe tbody tr th {\n",
       "        vertical-align: top;\n",
       "    }\n",
       "\n",
       "    .dataframe thead th {\n",
       "        text-align: right;\n",
       "    }\n",
       "</style>\n",
       "<table border=\"1\" class=\"dataframe\">\n",
       "  <thead>\n",
       "    <tr style=\"text-align: right;\">\n",
       "      <th></th>\n",
       "      <th>Random Forest with</th>\n",
       "      <th>Recall</th>\n",
       "      <th>Precision</th>\n",
       "      <th>F1 Score</th>\n",
       "      <th>Accuracy</th>\n",
       "    </tr>\n",
       "  </thead>\n",
       "  <tbody>\n",
       "    <tr>\n",
       "      <th>0</th>\n",
       "      <td>Random Undersampling</td>\n",
       "      <td>0.823944</td>\n",
       "      <td>0.320548</td>\n",
       "      <td>0.461538</td>\n",
       "      <td>0.996793</td>\n",
       "    </tr>\n",
       "  </tbody>\n",
       "</table>\n",
       "</div>"
      ],
      "text/plain": [
       "     Random Forest with    Recall  Precision  F1 Score  Accuracy\n",
       "0  Random Undersampling  0.823944   0.320548  0.461538  0.996793"
      ]
     },
     "execution_count": 15,
     "metadata": {},
     "output_type": "execute_result"
    }
   ],
   "source": [
    "best_params = {\n",
    "    'max_depth': 4,\n",
    "    'n_estimators': 50,\n",
    "    'random_state': 13\n",
    "}\n",
    "\n",
    "random_undersampler = RandomUnderSampler(sampling_strategy=0.5, random_state=42)  # Adjust sampling_strategy if needed\n",
    "random_forest_classifier = RandomForestClassifier(**best_params)\n",
    "\n",
    "# Create the pipeline with RandomOverSampler and RandomForestClassifier\n",
    "random_under_pipeline = make_pipeline(random_undersampler, random_forest_classifier)\n",
    "\n",
    "# Fit the pipeline on the training data\n",
    "random_under_pipeline.fit(X_train, y_train)\n",
    "\n",
    "# Predict on the test data\n",
    "y_pred3 = random_under_pipeline.predict(X_test)\n",
    "\n",
    "cm = confusion_matrix(y_test, y_pred3)\n",
    "\n",
    "under_rf_Recall = recall_score(y_test, y_pred3)\n",
    "under_rf_Precision = precision_score(y_test, y_pred3)\n",
    "under_rf_f1 = f1_score(y_test, y_pred3)\n",
    "under_rf_accuracy = accuracy_score(y_test, y_pred3)\n",
    "\n",
    "print(cm)\n",
    "\n",
    "ndf = [(under_rf_Recall, under_rf_Precision, under_rf_f1, under_rf_accuracy)]\n",
    "\n",
    "under_rf_score = pd.DataFrame(data = ndf, columns=['Recall','Precision','F1 Score', 'Accuracy'])\n",
    "under_rf_score.insert(0, 'Random Forest with', 'Random Undersampling')\n",
    "under_rf_score"
   ]
  },
  {
   "cell_type": "markdown",
   "metadata": {},
   "source": [
    "3. SMOTE"
   ]
  },
  {
   "cell_type": "code",
   "execution_count": 28,
   "metadata": {},
   "outputs": [
    {
     "name": "stdout",
     "output_type": "stream",
     "text": [
      "Cross Validation Recall Scores are: [0.86363636 0.83333333 0.76119403 0.87878788 0.72727273]\n",
      "Average Cross Validation Recall score: 0.8128448665762098\n"
     ]
    }
   ],
   "source": [
    "from imblearn.over_sampling import SMOTE\n",
    "\n",
    "smote_pipeline = make_pipeline(SMOTE(random_state=42), \n",
    "                              RandomForestClassifier(n_estimators=100, random_state=13))\n",
    "score3 = cross_val_score(smote_pipeline, X_train, y_train, scoring='recall', cv=kf)\n",
    "print(\"Cross Validation Recall Scores are: {}\".format(score3))\n",
    "print(\"Average Cross Validation Recall score: {}\".format(score3.mean()))"
   ]
  },
  {
   "cell_type": "code",
   "execution_count": 11,
   "metadata": {},
   "outputs": [
    {
     "name": "stdout",
     "output_type": "stream",
     "text": [
      "[[84621   355]\n",
      " [   21   121]]\n"
     ]
    },
    {
     "data": {
      "text/html": [
       "<div>\n",
       "<style scoped>\n",
       "    .dataframe tbody tr th:only-of-type {\n",
       "        vertical-align: middle;\n",
       "    }\n",
       "\n",
       "    .dataframe tbody tr th {\n",
       "        vertical-align: top;\n",
       "    }\n",
       "\n",
       "    .dataframe thead th {\n",
       "        text-align: right;\n",
       "    }\n",
       "</style>\n",
       "<table border=\"1\" class=\"dataframe\">\n",
       "  <thead>\n",
       "    <tr style=\"text-align: right;\">\n",
       "      <th></th>\n",
       "      <th>Random Forest with</th>\n",
       "      <th>Recall</th>\n",
       "      <th>Precision</th>\n",
       "      <th>F1 Score</th>\n",
       "      <th>Accuracy</th>\n",
       "    </tr>\n",
       "  </thead>\n",
       "  <tbody>\n",
       "    <tr>\n",
       "      <th>0</th>\n",
       "      <td>smote</td>\n",
       "      <td>0.852113</td>\n",
       "      <td>0.254202</td>\n",
       "      <td>0.391586</td>\n",
       "      <td>0.995583</td>\n",
       "    </tr>\n",
       "  </tbody>\n",
       "</table>\n",
       "</div>"
      ],
      "text/plain": [
       "  Random Forest with    Recall  Precision  F1 Score  Accuracy\n",
       "0              smote  0.852113   0.254202  0.391586  0.995583"
      ]
     },
     "execution_count": 11,
     "metadata": {},
     "output_type": "execute_result"
    }
   ],
   "source": [
    "best_params = {\n",
    "    'max_depth': 6,\n",
    "    'n_estimators': 50,\n",
    "    'random_state': 13\n",
    "}\n",
    "from imblearn.over_sampling import SMOTE\n",
    "\n",
    "random_forest_classifier = RandomForestClassifier(**best_params)\n",
    "\n",
    "# Create the pipeline with RandomOverSampler and RandomForestClassifier\n",
    "smote_pipeline = make_pipeline(SMOTE(random_state=42), \n",
    "                              random_forest_classifier)\n",
    "# Fit the pipeline on the training data\n",
    "smote_pipeline.fit(X_train, y_train)\n",
    "\n",
    "# Predict on the test data\n",
    "y_pred4 = smote_pipeline.predict(X_test)\n",
    "\n",
    "cm = confusion_matrix(y_test, y_pred4)\n",
    "\n",
    "smote_rf_Recall = recall_score(y_test, y_pred4)\n",
    "smote_rf_Precision = precision_score(y_test, y_pred4)\n",
    "smote_rf_f1 = f1_score(y_test, y_pred4)\n",
    "smote_rf_accuracy = accuracy_score(y_test, y_pred4)\n",
    "\n",
    "print(cm)\n",
    "\n",
    "ndf = [(smote_rf_Recall, smote_rf_Precision,smote_rf_f1, smote_rf_accuracy)]\n",
    "\n",
    "smote_rf_score = pd.DataFrame(data = ndf, columns=['Recall','Precision','F1 Score', 'Accuracy'])\n",
    "smote_rf_score.insert(0, 'Random Forest with', 'smote')\n",
    "smote_rf_score"
   ]
  },
  {
   "cell_type": "markdown",
   "metadata": {},
   "source": [
    "**(b)**  \n",
    "由以上三種方法，我最建議使用SMOTE，原因是他的Recall 分數最高，由於信用卡詐欺事件的出現往往具有相當高的嚴重性，有效地識別可能涉及詐欺的交易事件並對其進行監控，往往能夠減少重大損失。\n"
   ]
  },
  {
   "cell_type": "code",
   "execution_count": 17,
   "metadata": {},
   "outputs": [
    {
     "data": {
      "text/html": [
       "<div>\n",
       "<style scoped>\n",
       "    .dataframe tbody tr th:only-of-type {\n",
       "        vertical-align: middle;\n",
       "    }\n",
       "\n",
       "    .dataframe tbody tr th {\n",
       "        vertical-align: top;\n",
       "    }\n",
       "\n",
       "    .dataframe thead th {\n",
       "        text-align: right;\n",
       "    }\n",
       "</style>\n",
       "<table border=\"1\" class=\"dataframe\">\n",
       "  <thead>\n",
       "    <tr style=\"text-align: right;\">\n",
       "      <th></th>\n",
       "      <th>Random Forest with</th>\n",
       "      <th>Recall</th>\n",
       "      <th>Precision</th>\n",
       "      <th>F1 Score</th>\n",
       "      <th>Accuracy</th>\n",
       "    </tr>\n",
       "  </thead>\n",
       "  <tbody>\n",
       "    <tr>\n",
       "      <th>2</th>\n",
       "      <td>smote</td>\n",
       "      <td>0.852113</td>\n",
       "      <td>0.254202</td>\n",
       "      <td>0.391586</td>\n",
       "      <td>0.995583</td>\n",
       "    </tr>\n",
       "    <tr>\n",
       "      <th>0</th>\n",
       "      <td>Random Undersampling</td>\n",
       "      <td>0.823944</td>\n",
       "      <td>0.320548</td>\n",
       "      <td>0.461538</td>\n",
       "      <td>0.996793</td>\n",
       "    </tr>\n",
       "    <tr>\n",
       "      <th>1</th>\n",
       "      <td>Random Oversampling</td>\n",
       "      <td>0.802817</td>\n",
       "      <td>0.647727</td>\n",
       "      <td>0.716981</td>\n",
       "      <td>0.998943</td>\n",
       "    </tr>\n",
       "  </tbody>\n",
       "</table>\n",
       "</div>"
      ],
      "text/plain": [
       "     Random Forest with    Recall  Precision  F1 Score  Accuracy\n",
       "2                 smote  0.852113   0.254202  0.391586  0.995583\n",
       "0  Random Undersampling  0.823944   0.320548  0.461538  0.996793\n",
       "1   Random Oversampling  0.802817   0.647727  0.716981  0.998943"
      ]
     },
     "execution_count": 17,
     "metadata": {},
     "output_type": "execute_result"
    }
   ],
   "source": [
    "predictions = pd.concat([under_rf_score, over_rf_score, smote_rf_score], ignore_index=True, sort=False)\n",
    "predictions.sort_values(by=['Recall'], ascending=False)"
   ]
  },
  {
   "cell_type": "markdown",
   "metadata": {},
   "source": [
    "雖然smote的Recall分數較高，然而他卻有較低的f1 score與precision，而在三種方法中accuracy最高的是random oversampling，但其recall卻最低。"
   ]
  },
  {
   "cell_type": "markdown",
   "metadata": {},
   "source": [
    "**(c)**"
   ]
  },
  {
   "cell_type": "code",
   "execution_count": 11,
   "metadata": {},
   "outputs": [
    {
     "name": "stdout",
     "output_type": "stream",
     "text": [
      "SMOTE Ratio = 0.1, Positive Class Ratio = 0.09\n",
      "0.18840579710144928 0.0003530242409978819\n",
      "SMOTE Ratio = 0.2, Positive Class Ratio = 0.17\n",
      "0.2222222222222222 0.0003530491679807941\n",
      "SMOTE Ratio = 0.3, Positive Class Ratio = 0.23\n",
      "0.25 0.00036483464752265504\n",
      "SMOTE Ratio = 0.4, Positive Class Ratio = 0.29\n",
      "0.3090909090909091 0.0003295940108059751\n",
      "SMOTE Ratio = 0.5, Positive Class Ratio = 0.33\n",
      "0.39267015706806285 0.00030614527770909136\n",
      "SMOTE Ratio = 0.6, Positive Class Ratio = 0.37\n",
      "0.5245901639344263 0.0003063364516813158\n",
      "SMOTE Ratio = 0.7, Positive Class Ratio = 0.41\n",
      "0.5568181818181818 0.000294623706601928\n",
      "SMOTE Ratio = 0.8, Positive Class Ratio = 0.44\n",
      "0.6225806451612903 0.0002947835109895293\n",
      "SMOTE Ratio = 0.9, Positive Class Ratio = 0.47\n",
      "0.7241379310344828 0.00025979240225310865\n",
      "SMOTE Ratio = 1.0, Positive Class Ratio = 0.50\n",
      "0.751578947368421 0.00028354382524248907\n"
     ]
    }
   ],
   "source": [
    "import numpy as np\n",
    "from sklearn.ensemble import RandomForestClassifier\n",
    "from sklearn.metrics import confusion_matrix, roc_curve, auc\n",
    "from imblearn.over_sampling import SMOTE\n",
    "\n",
    "# 不同的生成比例\n",
    "smote_ratios = np.arange(0.1, 1.1, 0.1)\n",
    "best_params = {\n",
    "    'max_depth': 6,\n",
    "    'n_estimators': 50,\n",
    "    'random_state': 13\n",
    "}\n",
    "fixed_threshold = 0.5  # 設定固定 threshold\n",
    "\n",
    "# 初始化結果存儲列表\n",
    "fpr_list = []\n",
    "fnr_list = []\n",
    "\n",
    "# 遍歷不同生成比例\n",
    "for smote_ratio in smote_ratios:\n",
    "    # 創建 SMOTE 實例，設定生成比例\n",
    "    smote = SMOTE(sampling_strategy=smote_ratio)\n",
    "    \n",
    "    # 運用 SMOTE 生成新樣本\n",
    "    X_resampled, y_resampled = smote.fit_resample(X_train, y_train)\n",
    "    print(f'SMOTE Ratio = {smote_ratio:.1f}, Positive Class Ratio = {np.mean(y_resampled):.2f}')\n",
    "    \n",
    "    # 初始化 Random Forest 分類器\n",
    "    rf_model = RandomForestClassifier(**best_params)\n",
    "    \n",
    "    # 訓練模型\n",
    "    rf_model.fit(X_resampled, y_resampled)\n",
    "    \n",
    "    # 預測概率\n",
    "    y_proba = rf_model.predict_proba(X_test)[:, 1]\n",
    "    \n",
    "    # 將所有預測概率調整為固定 threshold\n",
    "    y_pred_fixed_threshold = (y_proba >= fixed_threshold).astype(int)\n",
    "    \n",
    "    # 計算混淆矩陣\n",
    "    cm = confusion_matrix(y_test, y_pred_fixed_threshold)\n",
    "    \n",
    "    # 計算偽陽性率（FPR）和偽陰性率（FNR）\n",
    "    fpr = cm[0, 1] / (cm[0, 1] + cm[1, 1])\n",
    "    fnr = cm[1, 0] / (cm[1, 0] + cm[0, 0])\n",
    "    \n",
    "    # 將結果添加到列表中\n",
    "    fpr_list.append(fpr)\n",
    "    fnr_list.append(fnr)\n",
    "    print(fpr, fnr)\n",
    "\n",
    "\n"
   ]
  },
  {
   "cell_type": "code",
   "execution_count": 12,
   "metadata": {},
   "outputs": [
    {
     "data": {
      "image/png": "[encoded data removed]",
      "text/plain": [
       "<Figure size 1000x600 with 2 Axes>"
      ]
     },
     "metadata": {},
     "output_type": "display_data"
    }
   ],
   "source": [
    "\n",
    "# 創建圖表和兩個 y 軸\n",
    "fig, ax1 = plt.subplots(figsize=(10, 6))\n",
    "ax2 = ax1.twinx()\n",
    "\n",
    "# 畫折線圖，第一條曲線在左 y 軸上\n",
    "ax1.plot(smote_ratios, fpr_list, marker='o', label='False Positive Rate', color='blue')\n",
    "ax1.set_xlabel('SMOTE Ratio')\n",
    "ax1.set_ylabel('False Positive Rate', color='blue')\n",
    "ax1.tick_params(axis='y', labelcolor='blue')\n",
    "ax1.legend(loc='upper left')\n",
    "\n",
    "# 第二條曲線在右 y 軸上\n",
    "ax2.plot(smote_ratios, fnr_list, marker='o', label='False Negative Rate', color='red')\n",
    "ax2.set_ylabel('False Negative Rate', color='red')\n",
    "ax2.tick_params(axis='y', labelcolor='red')\n",
    "ax2.legend(loc='upper right')\n",
    "\n",
    "# 共享 x 軸標籤\n",
    "plt.title('Combined False Positive and False Negative Rate for Random Forest')\n",
    "plt.show()\n"
   ]
  },
  {
   "cell_type": "markdown",
   "metadata": {},
   "source": [
    "由上圖敏感性分析可以觀察到，當數據越平衡，FPR(偽陽率)會越來越高，而FNR(偽陰率)會越來越低，這可能是因為當Label為1的數據在訓練及越來越多時，模型更能購判斷出信用卡詐欺事件，但也更容易將非信用詐欺事件與非正常交易搞混。就上圖觀察而言，由於信用卡詐欺事件的嚴重性相當高，我會將SMOTE Ratio，選在0.9，由於該比例的FNR相對最低，且無法判斷出該交易為詐欺事件的成本也高出很多。\n"
   ]
  },
  {
   "cell_type": "markdown",
   "metadata": {},
   "source": [
    "**(d)**  \n",
    "我認為特徵挑選應在資料平衡之後，這是因為特徵挑選會針對資料集做重要特徵的篩選，若我們在資料平衡前就做篩選，則可能會選到一些針對不重要的資料(Outliers)，又或是對分辨少數的label較差的特徵，這可能會使我們在進行預測時，無法更有效地分辨出資料平衡前較少的label。"
   ]
  },
  {
   "cell_type": "markdown",
   "metadata": {},
   "source": [
    "**(e)**\n",
    "我認為這篇文章可以再補充翰海進以下幾個部分:"
   ]
  },
  {
   "cell_type": "markdown",
   "metadata": {},
   "source": [
    "1. 將不同種Data balance的方法講解得更仔細，並列出各種data balance方法適合應用的情境\n",
    "2. 增加各多評分機制的方法，這篇文章有提到recall, ROC等衡量模型表現的方法，還可以再增加期的衡量模型的方法如前一提的敏感性分析等。  \n",
    "除此之外我認為這篇文章有很多可學習之處，也講得相當精細，例如提到為何不刪除outliers的原因。\n"
   ]
  },
  {
   "cell_type": "markdown",
   "metadata": {},
   "source": [
    "## 第二題"
   ]
  },
  {
   "cell_type": "markdown",
   "metadata": {},
   "source": [
    "**(a)**"
   ]
  },
  {
   "cell_type": "markdown",
   "metadata": {},
   "source": [
    "1. 染色體編碼  \n",
    "首先將染色體表示為一組工件的作業加工順序，一個基因代表一個工件的加工作業，根據工件在染色體出現的次數，來得知各個工件目前的加工作業，再來對應各工件的加工機台及加工時間，藉此來進行排程。  \n",
    "此排程問題具有20個工件15台機台，那一個染色體將會由 20 *15 個基因所組成，因為每個工件在每台機台只會被加工一次，共要被 15 台機台加工，所以每個工件在染色體裡將會出現 15 次。"
   ]
  },
  {
   "cell_type": "markdown",
   "metadata": {},
   "source": [
    "2. 初始解生成  \n",
    "隨機生成一些初始的排程，我們假設**母體大小為50**(也就是有50個染色體)，每個染色體共有 20 x 15 = 300 個基因，並可以使用不同的啟發式方法，例如優先安排處理時間較長的工作或是優先安排處理時間較短的工作。\n",
    "\n"
   ]
  },
  {
   "cell_type": "markdown",
   "metadata": {},
   "source": [
    "3. 交配  \n",
    "一開始會先產生一組用來選擇親代染色體的隨機序列，接著從序列中，兩個兩個抓出來，我們假設**交配率為0.7**來決定是否要進行交配，如果被選中，則採用雙點交配法，產生兩個子代，並取代原本的母代染色體。\n",
    "\n"
   ]
  },
  {
   "cell_type": "markdown",
   "metadata": {},
   "source": [
    "4. 修復  \n",
    "由於上面進行交配的動作，會導致有些染色體內的工件出現次數會小於15或大於15，而形成一個不可行的排程解，所以此步驟必須針對不可行的染色體進行修復動作，使它成為一個可行排程。\n",
    "\n"
   ]
  },
  {
   "cell_type": "markdown",
   "metadata": {},
   "source": [
    "5. 突變  \n",
    "依據 mutation selection rate 決定染色體中有多少百分比的基因要進行突變，假設 **mutation selection rate 為0.3**，則總共300個基因我們會隨機指定90個基因進行突變。\n"
   ]
  },
  {
   "cell_type": "markdown",
   "metadata": {},
   "source": [
    "6. 選擇  \n",
    "我們採用輪盤法進行選擇: 首先計算每個個體的適應度值(該值為完工時間的倒數)，而後計算每個個體被選中的概率，且概率與適應度成正比，最後將這些概率形成一個輪盤，輪盤的整體長度等於所有個體的總適應度，並在輪盤上隨機選擇一個位置，該位置所屬的區間所代表的個體就是被選中的個體。  \n",
    "此方法可以使適應度較高的個體被選中的概率較大，但不保證適應度最高的個體一定會被選中，因此具有一定的隨機性。這種方法有助於保持多樣性，同時更有可能選擇適應度較高的個體。\n"
   ]
  },
  {
   "cell_type": "markdown",
   "metadata": {},
   "source": [
    "7. 輸出最佳結果  \n",
    "等達到**最大迭代次數**(假設為2000次)或適應度達到某個閾值時，輸出在所有迭代中找到的最好排程結果、該結果的完工時間以及程式執行時間。"
   ]
  },
  {
   "cell_type": "markdown",
   "metadata": {},
   "source": [
    "**(b)**"
   ]
  },
  {
   "cell_type": "markdown",
   "metadata": {},
   "source": [
    "以下為修復方法:  \n",
    "1. 拒絕不可行染色體並生成新染色體： 最簡單的修復方法是拒絕不可行的染色體，並嘗透過將重複排程的機器改為未經過處理的機器，試重新生成一個合乎原則的染色體。\n",
    "2. 多次突變： 將不可行染色體標記為需要修復，然後在後續的突變操作中針對這些標記進行特殊處理。如此會產生多次突變，直到染色體變得合法。"
   ]
  },
  {
   "cell_type": "markdown",
   "metadata": {},
   "source": [
    "**(c)**"
   ]
  },
  {
   "cell_type": "code",
   "execution_count": 1,
   "metadata": {},
   "outputs": [
    {
     "name": "stdout",
     "output_type": "stream",
     "text": [
      "       O1  O2  O3  O4  O5  O6  O7  O8  O9  O10  O11  O12  O13  O14  O15\n",
      "Time                                                                   \n",
      "J1     25  75  75  76  38  62  38  59  14   13   46   31   57   92    3\n",
      " J2    67   5  11  11  40  34  77  42  35   96   22   55   21   29   16\n",
      " J3    22  98   8  35  59  31  13  46  52   22   18   19   64   29   70\n",
      " J4    99  42   2  35  11  92  88  97  21   56   17   43   27   19   23\n",
      " J5    50   5  59  71  47  39  82  35  12    2   39   42   52   65   35\n",
      " J6    48  57   5   2  60  64  86   3  51   26   34   39   45   63   54\n",
      "J7     40  43  50  71  46  99  67  34   6   95   67   54   29   30   60\n",
      "J8     59   3  85   6  46  49   5  82  18   71   48   79   62   65   76\n",
      "J9     65  55  81  15  32  52  97  69  82   89   69   87   22   71   63\n",
      "J10    70  74  52  94  14  81  24  14  32   39   67   59   18   77   50\n",
      "J11    18   6  96  53  35  99  39  18  14   90   64   81   89   48   80\n",
      " J12   44  75  12  13  74  59  71  75  30   93   26   30   84   91   93\n",
      " J13   39  56  13  29  55  69  26   7  55   48   22   46   50   96   17\n",
      " J14   57  14   8  13  95  53  78  24  92   90   68   87   43   75   94\n",
      " J15   93  92  18  28  27  40  56  83  51   15   97   48   53   78   39\n",
      " J16   47  34  42  28  11  11  30  14  10    4   20   92   19   59   28\n",
      " J17   69  82  64  40  27  82  27  43  56   17   18   20   98   43   68\n",
      " J18   84  26  87  61  95  23  88  89  49   84   12   51    3   44   20\n",
      " J19   43  54  18  72  70  28  20  22  59   36   85   13   73   29   45\n",
      " J20    7  97   4  22  74  45  62  95  66   14   40   23   79   34    8\n"
     ]
    }
   ],
   "source": [
    "import pandas as pd\n",
    "import numpy as np\n",
    "import time\n",
    "import copy\n",
    "import matplotlib.pyplot as plt\n",
    "\n",
    "# 初始化設置\n",
    "pt_tmp = pd.read_excel(\"JSP_dataset.xlsx\", sheet_name=\"Processing Time\", index_col=[0])\n",
    "ms_tmp = pd.read_excel(\"JSP_dataset.xlsx\", sheet_name=\"Machines Sequence\", index_col=[0])\n",
    "print(pt_tmp)\n",
    "dfshape = pt_tmp.shape\n",
    "num_mc = dfshape[1]  # number of machines\n",
    "num_job = dfshape[0]  # number of jobs\n",
    "num_gene = num_mc * num_job  # number of genes in a chromosome\n",
    "\n",
    "pt = [list(map(int, pt_tmp.iloc[i])) for i in range(num_job)]\n",
    "ms = [list(map(int, ms_tmp.iloc[i])) for i in range(num_job)]\n",
    "\n",
    "# 輸入參數\n",
    "population_size=50\n",
    "crossover_rate=0.7\n",
    "mutation_rate=0.3\n",
    "mutation_selection_rate=0.2\n",
    "num_mutation_jobs=round(num_gene*mutation_selection_rate)\n",
    "num_iteration=2000\n",
    "\n",
    "start_time = time.time()\n",
    "\n",
    "Tbest = 999999999999999\n",
    "best_list, best_obj = [], []\n",
    "population_list = []\n",
    "makespan_record = []\n",
    "current_best_record = []  \n",
    "\n",
    "for i in range(population_size):\n",
    "    nxm_random_num = list(np.random.permutation(num_gene))\n",
    "    population_list.append(nxm_random_num)\n",
    "    for j in range(num_gene):\n",
    "        population_list[i][j] = population_list[i][j] % num_job\n",
    "\n",
    "for n in range(num_iteration):\n",
    "    Tbest_now = 99999999999\n",
    "    '''-------- two point crossover --------'''\n",
    "    parent_list=copy.deepcopy(population_list)\n",
    "    offspring_list=copy.deepcopy(population_list)\n",
    "    S=list(np.random.permutation(population_size)) # generate a random sequence to select the parent chromosome to crossover\n",
    "    \n",
    "    for m in range(int(population_size/2)):\n",
    "        crossover_prob=np.random.rand()\n",
    "        if crossover_rate>=crossover_prob:\n",
    "            parent_1= population_list[S[2*m]][:]\n",
    "            parent_2= population_list[S[2*m+1]][:]\n",
    "            child_1=parent_1[:]\n",
    "            child_2=parent_2[:]\n",
    "            cutpoint=list(np.random.choice(num_gene, 2, replace=False))\n",
    "            cutpoint.sort()\n",
    "        \n",
    "            child_1[cutpoint[0]:cutpoint[1]]=parent_2[cutpoint[0]:cutpoint[1]]\n",
    "            child_2[cutpoint[0]:cutpoint[1]]=parent_1[cutpoint[0]:cutpoint[1]]\n",
    "            offspring_list[S[2*m]]=child_1[:]\n",
    "            offspring_list[S[2*m+1]]=child_2[:]\n",
    "        \n",
    "    \n",
    "    '''----------repairment-------------'''\n",
    "    for m in range(population_size):\n",
    "        job_count={}\n",
    "        larger,less=[],[] # 'larger' record jobs appear in the chromosome more than m times, and 'less' records less than m times.\n",
    "        for i in range(num_job):\n",
    "            if i in offspring_list[m]:\n",
    "                count=offspring_list[m].count(i)\n",
    "                pos=offspring_list[m].index(i)\n",
    "                job_count[i]=[count,pos] # store the above two values to the job_count dictionary\n",
    "            else:\n",
    "                count=0\n",
    "                job_count[i]=[count,0]\n",
    "            if count>num_mc:\n",
    "                larger.append(i)\n",
    "            elif count<num_mc:\n",
    "                less.append(i)\n",
    "                \n",
    "        for k in range(len(larger)):\n",
    "            chg_job=larger[k]\n",
    "            while job_count[chg_job][0]>num_mc:\n",
    "                for d in range(len(less)):\n",
    "                    if job_count[less[d]][0]<num_mc:                    \n",
    "                        offspring_list[m][job_count[chg_job][1]]=less[d]\n",
    "                        job_count[chg_job][1]=offspring_list[m].index(chg_job)\n",
    "                        job_count[chg_job][0]=job_count[chg_job][0]-1\n",
    "                        job_count[less[d]][0]=job_count[less[d]][0]+1                    \n",
    "                    if job_count[chg_job][0]==num_mc:\n",
    "                        break     \n",
    "    \n",
    "    '''--------mutatuon--------'''   \n",
    "    for m in range(len(offspring_list)):\n",
    "        mutation_prob=np.random.rand()\n",
    "        if mutation_rate >= mutation_prob:\n",
    "            m_chg=list(np.random.choice(num_gene, num_mutation_jobs, replace=False)) # chooses the position to mutation\n",
    "            t_value_last=offspring_list[m][m_chg[0]] # save the value which is on the first mutation position\n",
    "            for i in range(num_mutation_jobs-1):\n",
    "                offspring_list[m][m_chg[i]]=offspring_list[m][m_chg[i+1]] # displacement\n",
    "            \n",
    "            offspring_list[m][m_chg[num_mutation_jobs-1]]=t_value_last # move the value of the first mutation position to the last mutation position\n",
    "  \n",
    "    \n",
    "    '''--------fitness value(calculate makespan)-------------'''\n",
    "    total_chromosome=copy.deepcopy(parent_list)+copy.deepcopy(offspring_list) # parent and offspring chromosomes combination\n",
    "    chrom_fitness,chrom_fit=[],[]\n",
    "    total_fitness=0\n",
    "    for m in range(population_size*2):\n",
    "        j_keys=[j for j in range(num_job)]\n",
    "        key_count={key:0 for key in j_keys}\n",
    "        j_count={key:0 for key in j_keys}\n",
    "        m_keys=[j+1 for j in range(num_mc)]\n",
    "        m_count={key:0 for key in m_keys}\n",
    "        \n",
    "        for i in total_chromosome[m]:\n",
    "            gen_t=int(pt[i][key_count[i]])\n",
    "            gen_m=int(ms[i][key_count[i]])\n",
    "            j_count[i]=j_count[i]+gen_t\n",
    "            m_count[gen_m]=m_count[gen_m]+gen_t\n",
    "            \n",
    "            if m_count[gen_m]<j_count[i]:\n",
    "                m_count[gen_m]=j_count[i]\n",
    "            elif m_count[gen_m]>j_count[i]:\n",
    "                j_count[i]=m_count[gen_m]\n",
    "            \n",
    "            key_count[i]=key_count[i]+1\n",
    "    \n",
    "        makespan=max(j_count.values())\n",
    "        chrom_fitness.append(1/makespan)\n",
    "        chrom_fit.append(makespan)\n",
    "        total_fitness=total_fitness+chrom_fitness[m]\n",
    "\n",
    "    \n",
    "    '''----------selection(roulette wheel approach)----------'''\n",
    "    pk,qk=[],[]\n",
    "    \n",
    "    for i in range(population_size*2):\n",
    "        pk.append(chrom_fitness[i]/total_fitness)\n",
    "    for i in range(population_size*2):\n",
    "        cumulative=0\n",
    "        for j in range(0,i+1):\n",
    "            cumulative=cumulative+pk[j]\n",
    "        qk.append(cumulative)\n",
    "    \n",
    "    selection_rand=[np.random.rand() for i in range(population_size)]\n",
    "    \n",
    "    for i in range(population_size):\n",
    "        if selection_rand[i]<=qk[0]:\n",
    "            population_list[i]=copy.deepcopy(total_chromosome[0])\n",
    "        else:\n",
    "            for j in range(0,population_size*2-1):\n",
    "                if selection_rand[i]>qk[j] and selection_rand[i]<=qk[j+1]:\n",
    "                    population_list[i]=copy.deepcopy(total_chromosome[j+1])\n",
    "                    break\n",
    "    '''----------comparison----------'''\n",
    "    for i in range(population_size*2):\n",
    "        if chrom_fit[i]<Tbest_now:\n",
    "            Tbest_now=chrom_fit[i]\n",
    "            sequence_now=copy.deepcopy(total_chromosome[i])\n",
    "    if Tbest_now <= Tbest:\n",
    "        Tbest = Tbest_now\n",
    "        sequence_best = copy.deepcopy(sequence_now)\n",
    "\n",
    "    makespan_record.append(Tbest)  # Keep only this append inside the if-statement\n",
    "\n",
    "    current_best_record.append(Tbest_now)  # record the best current best fitness value\n",
    "\n",
    "\n"
   ]
  },
  {
   "cell_type": "markdown",
   "metadata": {},
   "source": [
    "**(d)**"
   ]
  },
  {
   "cell_type": "code",
   "execution_count": 20,
   "metadata": {},
   "outputs": [
    {
     "data": {
      "image/png": "[encoded data removed]",
      "text/plain": [
       "<Figure size 1000x600 with 1 Axes>"
      ]
     },
     "metadata": {},
     "output_type": "display_data"
    }
   ],
   "source": [
    "plt.rcParams['font.family'] = 'Microsoft JhengHei'\n",
    "plt.figure(figsize=(10, 6))\n",
    "plt.plot(makespan_record, label='歷史最佳適應值')\n",
    "plt.plot(current_best_record, label='迭代回合的最佳適應值', linestyle='--', color = 'aqua')\n",
    "plt.title('基因演算法收斂圖')\n",
    "plt.xlabel('Iteration')\n",
    "plt.ylabel('Best Fitness Value')\n",
    "plt.legend()\n",
    "plt.show()"
   ]
  }
 ],
 "metadata": {
  "kernelspec": {
   "display_name": "Python 3",
   "language": "python",
   "name": "python3"
  },
  "language_info": {
   "codemirror_mode": {
    "name": "ipython",
    "version": 3
   },
   "file_extension": ".py",
   "mimetype": "text/x-python",
   "name": "python",
   "nbconvert_exporter": "python",
   "pygments_lexer": "ipython3",
   "version": "3.9.13"
  }
 },
 "nbformat": 4,
 "nbformat_minor": 2
}
